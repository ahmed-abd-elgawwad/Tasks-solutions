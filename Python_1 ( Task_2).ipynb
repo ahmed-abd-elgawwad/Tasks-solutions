{
 "cells": [
  {
   "cell_type": "markdown",
   "id": "precise-taiwan",
   "metadata": {},
   "source": [
    "#  3- take three distincit numbers and the combinations of them"
   ]
  },
  {
   "cell_type": "markdown",
   "id": "athletic-twenty",
   "metadata": {},
   "source": [
    "- first way of getting the input"
   ]
  },
  {
   "cell_type": "code",
   "execution_count": 3,
   "id": "approximate-directive",
   "metadata": {
    "scrolled": true
   },
   "outputs": [
    {
     "name": "stdout",
     "output_type": "stream",
     "text": [
      "enter the first number: 1\n",
      "enter the second number: 2\n",
      "enter the third number: 3\n"
     ]
    }
   ],
   "source": [
    "a=int(input(\"enter the first number: \"))\n",
    "b=int(input(\"enter the second number: \"))\n",
    "c=int(input(\"enter the third number: \"))"
   ]
  },
  {
   "cell_type": "markdown",
   "id": "introductory-cambridge",
   "metadata": {},
   "source": [
    "- another way"
   ]
  },
  {
   "cell_type": "code",
   "execution_count": 4,
   "id": "dominican-poverty",
   "metadata": {},
   "outputs": [
    {
     "name": "stdout",
     "output_type": "stream",
     "text": [
      "enter element1: 1\n",
      "enter element2: 2\n",
      "enter element3: 3\n"
     ]
    }
   ],
   "source": [
    "lis=[]\n",
    "for i in range(3):\n",
    "    lis.append(int(input(f\"enter element{i+1}: \")))"
   ]
  },
  {
   "cell_type": "markdown",
   "id": "floppy-publicity",
   "metadata": {},
   "source": [
    "- third way"
   ]
  },
  {
   "cell_type": "code",
   "execution_count": 5,
   "id": "interesting-hypothetical",
   "metadata": {},
   "outputs": [
    {
     "name": "stdout",
     "output_type": "stream",
     "text": [
      "enter element_1: 1\n",
      "enter element_2: 2\n",
      "enter element_3: 3\n"
     ]
    }
   ],
   "source": [
    "number= [ int(input(f\"enter element_{i+1}: \")) for i in range(3)]"
   ]
  },
  {
   "cell_type": "code",
   "execution_count": 6,
   "id": "respected-neighbor",
   "metadata": {},
   "outputs": [
    {
     "data": {
      "text/plain": [
       "['1', '2', '3']"
      ]
     },
     "execution_count": 6,
     "metadata": {},
     "output_type": "execute_result"
    }
   ],
   "source": [
    "s=\"  1 2 3  \"\n",
    "lis=s.strip().split()\n",
    "lis "
   ]
  },
  {
   "cell_type": "code",
   "execution_count": 7,
   "id": "miniature-memphis",
   "metadata": {},
   "outputs": [
    {
     "data": {
      "text/plain": [
       "[1, 2, 3]"
      ]
     },
     "execution_count": 7,
     "metadata": {},
     "output_type": "execute_result"
    }
   ],
   "source": [
    "numbers=list(map(int, lis))\n",
    "numbers "
   ]
  },
  {
   "cell_type": "markdown",
   "id": "cross-bouquet",
   "metadata": {},
   "source": [
    "taking the input as string "
   ]
  },
  {
   "cell_type": "code",
   "execution_count": 8,
   "id": "rolled-liberia",
   "metadata": {},
   "outputs": [
    {
     "name": "stdout",
     "output_type": "stream",
     "text": [
      "1 2 3\n"
     ]
    }
   ],
   "source": [
    "numbers=list(map(int, input().strip().split()))"
   ]
  },
  {
   "cell_type": "code",
   "execution_count": 9,
   "id": "designing-johnston",
   "metadata": {},
   "outputs": [
    {
     "data": {
      "text/plain": [
       "[1, 2, 3]"
      ]
     },
     "execution_count": 9,
     "metadata": {},
     "output_type": "execute_result"
    }
   ],
   "source": [
    "numbers"
   ]
  },
  {
   "cell_type": "code",
   "execution_count": 10,
   "id": "assigned-puppy",
   "metadata": {},
   "outputs": [
    {
     "name": "stdout",
     "output_type": "stream",
     "text": [
      "1 2 3\n",
      "1 3 2\n",
      "2 1 3\n",
      "2 3 1\n",
      "3 1 2\n",
      "3 2 1\n"
     ]
    }
   ],
   "source": [
    "for i in numbers:\n",
    "    for j in numbers:\n",
    "        for k in numbers:\n",
    "            if i!=j and i!=k and j!=k:\n",
    "                print(i,j,k)"
   ]
  },
  {
   "cell_type": "markdown",
   "id": "monthly-monday",
   "metadata": {},
   "source": [
    "# problem 2\n",
    "- perfect square ( round(x**.05)**2=X )"
   ]
  },
  {
   "cell_type": "code",
   "execution_count": 2,
   "id": "living-magazine",
   "metadata": {},
   "outputs": [
    {
     "name": "stdout",
     "output_type": "stream",
     "text": [
      "enter the lower range:50\n",
      "enter the upper range:100\n"
     ]
    }
   ],
   "source": [
    "l=int(input(\"enter the lower range:\"))\n",
    "u= int(input(\"enter the upper range:\"))"
   ]
  },
  {
   "cell_type": "code",
   "execution_count": 3,
   "id": "reverse-beatles",
   "metadata": {},
   "outputs": [
    {
     "name": "stdout",
     "output_type": "stream",
     "text": [
      "81\n",
      "100\n"
     ]
    }
   ],
   "source": [
    "for i in range(l,u+1):\n",
    "    summ=0\n",
    "    for n in str(i):\n",
    "        summ+=int(n)\n",
    "    if round(i**.5)**2==i and summ<10 :\n",
    "        print(i) \n",
    "    "
   ]
  },
  {
   "cell_type": "markdown",
   "id": "chemical-stamp",
   "metadata": {},
   "source": [
    "#### another solution"
   ]
  },
  {
   "cell_type": "code",
   "execution_count": 4,
   "id": "interior-senate",
   "metadata": {},
   "outputs": [
    {
     "name": "stdout",
     "output_type": "stream",
     "text": [
      "81\n",
      "100\n"
     ]
    }
   ],
   "source": [
    "for i in range(l,u+1):\n",
    "    summ= sum( [int(x) for x in str(i) ] )\n",
    "    if round(i**.5)**2==i and summ<10 :\n",
    "        print(i) "
   ]
  },
  {
   "cell_type": "markdown",
   "id": "cellular-devon",
   "metadata": {},
   "source": [
    "# problem 3"
   ]
  },
  {
   "cell_type": "markdown",
   "id": "iraqi-genius",
   "metadata": {},
   "source": [
    "- just using set{} as it has no dublicates\n"
   ]
  },
  {
   "cell_type": "code",
   "execution_count": 1,
   "id": "incorporate-irish",
   "metadata": {},
   "outputs": [
    {
     "name": "stdout",
     "output_type": "stream",
     "text": [
      "enter number of elements: 5\n",
      "enter elemnts [1] : 1\n",
      "enter elemnts [2] : 1\n",
      "enter elemnts [3] : 2\n",
      "enter elemnts [4] : 4\n",
      "enter elemnts [5] : 2\n",
      "{1, 2, 4}\n"
     ]
    }
   ],
   "source": [
    "# take the input of number of elemnts\n",
    "n= int(input(\"enter number of elements: \"))\n",
    "list_of_elemnts=[]\n",
    "for i in range(n):\n",
    "    # take the input and append it to the list_of_elements\n",
    "    e= int(input(f\"enter elemnts [{ i+1}] : \"))\n",
    "    list_of_elemnts.append(e)\n",
    "#  after taking the i nputs , print the new list of non dublicates\n",
    "non_doblicates_list =set(list_of_elemnts)\n",
    "print(non_doblicates_list)"
   ]
  },
  {
   "cell_type": "markdown",
   "id": "owned-sixth",
   "metadata": {},
   "source": [
    "## anoter  advanced method\n"
   ]
  },
  {
   "cell_type": "code",
   "execution_count": 2,
   "id": "above-onion",
   "metadata": {},
   "outputs": [
    {
     "name": "stdout",
     "output_type": "stream",
     "text": [
      "enter number of elements: 5\n",
      "enter elemnts [1] : 2\n",
      "enter elemnts [2] : 2\n",
      "enter elemnts [3] : 1\n",
      "enter elemnts [4] : 1\n",
      "enter elemnts [5] : 3\n",
      "[2, 1, 3]\n"
     ]
    }
   ],
   "source": [
    "n= int(input(\"enter number of elements: \"))\n",
    "empty=[]\n",
    "for i in range(n):\n",
    "    # take the input \n",
    "    e= int(input(f\"enter elemnts [{ i+1}] : \"))\n",
    "    # check if the number is in empty list or not\n",
    "    if e not in empty:\n",
    "        empty.append(e)\n",
    "print(empty)"
   ]
  },
  {
   "cell_type": "markdown",
   "id": "covered-italy",
   "metadata": {},
   "source": [
    "- first, take the input \n",
    "- second , check if the number is already in the list or not , if not append it \n",
    "- this will result of list of only unique number "
   ]
  }
 ],
 "metadata": {
  "kernelspec": {
   "display_name": "Python 3",
   "language": "python",
   "name": "python3"
  },
  "language_info": {
   "codemirror_mode": {
    "name": "ipython",
    "version": 3
   },
   "file_extension": ".py",
   "mimetype": "text/x-python",
   "name": "python",
   "nbconvert_exporter": "python",
   "pygments_lexer": "ipython3",
   "version": "3.8.2"
  }
 },
 "nbformat": 4,
 "nbformat_minor": 5
}
