{
 "cells": [
  {
   "cell_type": "markdown",
   "id": "actual-sixth",
   "metadata": {},
   "source": [
    "# problem 1"
   ]
  },
  {
   "cell_type": "code",
   "execution_count": 3,
   "id": "honey-fusion",
   "metadata": {},
   "outputs": [
    {
     "name": "stdout",
     "output_type": "stream",
     "text": [
      "0\n",
      "2\n",
      "4\n",
      "6\n",
      "8\n",
      "10\n"
     ]
    }
   ],
   "source": [
    "for i in range(0,10+1,2):\n",
    "    print(i) \n"
   ]
  },
  {
   "cell_type": "code",
   "execution_count": 4,
   "id": "european-cement",
   "metadata": {},
   "outputs": [
    {
     "name": "stdout",
     "output_type": "stream",
     "text": [
      "9\n",
      "8\n",
      "7\n",
      "6\n",
      "5\n",
      "4\n",
      "3\n",
      "2\n",
      "1\n"
     ]
    }
   ],
   "source": [
    "for i in range(10-1,0,-1):\n",
    "    print(i) "
   ]
  },
  {
   "cell_type": "code",
   "execution_count": 11,
   "id": "israeli-disaster",
   "metadata": {},
   "outputs": [
    {
     "data": {
      "text/plain": [
       "[5, 4, 3, 2, 1]"
      ]
     },
     "execution_count": 11,
     "metadata": {},
     "output_type": "execute_result"
    }
   ],
   "source": [
    "lis= [1,2,3,4,5]\n",
    "list(reversed(lis)) \n"
   ]
  },
  {
   "cell_type": "code",
   "execution_count": 14,
   "id": "vocal-asbestos",
   "metadata": {},
   "outputs": [
    {
     "name": "stdout",
     "output_type": "stream",
     "text": [
      "9\n",
      "8\n",
      "7\n",
      "6\n",
      "5\n",
      "4\n",
      "3\n",
      "2\n",
      "1\n",
      "0\n"
     ]
    }
   ],
   "source": [
    "for i in reversed(range(0,10,1)):\n",
    "    print(i) "
   ]
  },
  {
   "cell_type": "code",
   "execution_count": 9,
   "id": "limiting-insert",
   "metadata": {},
   "outputs": [
    {
     "name": "stdout",
     "output_type": "stream",
     "text": [
      "enter the number: 10\n",
      "9\n",
      "8\n",
      "7\n",
      "5\n",
      "4\n",
      "3\n",
      "2\n",
      "1\n"
     ]
    }
   ],
   "source": [
    "a =input(\"enter the number: \")\n",
    "a= int(a)\n",
    "for i in range(a-1,0,-1):\n",
    "#     if i != 6:  \n",
    "#         print(i)\n",
    "    if i == 6:\n",
    "        continue\n",
    "    print(i)\n"
   ]
  },
  {
   "cell_type": "code",
   "execution_count": 5,
   "id": "infrared-essence",
   "metadata": {},
   "outputs": [
    {
     "name": "stdout",
     "output_type": "stream",
     "text": [
      "10\n"
     ]
    },
    {
     "data": {
      "text/plain": [
       "str"
      ]
     },
     "execution_count": 5,
     "metadata": {},
     "output_type": "execute_result"
    }
   ],
   "source": [
    "a= input()\n",
    "type(a) "
   ]
  },
  {
   "cell_type": "markdown",
   "id": "affected-honduras",
   "metadata": {},
   "source": [
    "# problem 2"
   ]
  },
  {
   "cell_type": "code",
   "execution_count": 20,
   "id": "qualified-michael",
   "metadata": {},
   "outputs": [
    {
     "name": "stdout",
     "output_type": "stream",
     "text": [
      "Mohamed\n",
      "Shady\n",
      "Sherif\n",
      "Salah\n",
      "Friends Printed And Ignored Names Count Is 3\n"
     ]
    }
   ],
   "source": [
    "friends = [\"Mohamed\", \"Shady\", \"ahmed\", \"eman\", \"Sherif\",\"mona\",\"Salah\"]\n",
    "# i=0\n",
    "# no_upper=0\n",
    "# while  i < len(friends):\n",
    "#     if friends[i][0].isupper():\n",
    "#         print(friends[i])\n",
    "#     else:\n",
    "#         no_upper+=1\n",
    "        \n",
    "#     i+=1\n",
    "# print(f\"Friends Printed And Ignored Names Count Is {no_upper}\")\n",
    "i=0 \n",
    "not_upper=0\n",
    "while i < len(friends):\n",
    "    if friends[i][0].isupper(): \n",
    "        print(friends[i])\n",
    "    else:\n",
    "        not_upper+=1\n",
    "    i+=1\n",
    "print(f\"Friends Printed And Ignored Names Count Is {not_upper}\")"
   ]
  },
  {
   "cell_type": "code",
   "execution_count": 15,
   "id": "pacific-mentor",
   "metadata": {},
   "outputs": [
    {
     "data": {
      "text/plain": [
       "True"
      ]
     },
     "execution_count": 15,
     "metadata": {},
     "output_type": "execute_result"
    }
   ],
   "source": [
    "friends[0][0].isupper() "
   ]
  },
  {
   "cell_type": "markdown",
   "id": "front-applicant",
   "metadata": {},
   "source": [
    "## problem 3"
   ]
  },
  {
   "cell_type": "code",
   "execution_count": 1,
   "id": "liberal-glasgow",
   "metadata": {},
   "outputs": [],
   "source": [
    "skills = [\"HTML\", \"CSS\", \"JavaScript\", \"PHP\", \"Python\"]\n",
    "\n"
   ]
  },
  {
   "cell_type": "code",
   "execution_count": 10,
   "id": "vocal-circumstances",
   "metadata": {},
   "outputs": [
    {
     "name": "stdout",
     "output_type": "stream",
     "text": [
      "HTML\n",
      "CSS\n",
      "JavaScript\n",
      "PHP\n",
      "Python\n"
     ]
    }
   ],
   "source": [
    "print(*skills,sep=\"\\n\")"
   ]
  },
  {
   "cell_type": "code",
   "execution_count": 9,
   "id": "covered-profile",
   "metadata": {},
   "outputs": [
    {
     "name": "stdout",
     "output_type": "stream",
     "text": [
      "['HTML', 'CSS', 'JavaScript', 'PHP', 'Python']\n"
     ]
    }
   ],
   "source": [
    "print(skills)"
   ]
  },
  {
   "cell_type": "code",
   "execution_count": 22,
   "id": "southeast-legislation",
   "metadata": {},
   "outputs": [
    {
     "name": "stdout",
     "output_type": "stream",
     "text": [
      "there is age\n"
     ]
    }
   ],
   "source": [
    "age=1\n",
    "name =None\n",
    "if age:\n",
    "    print(\"there is age\")\n",
    "else:\n",
    "    print(\"there is no age\")"
   ]
  },
  {
   "cell_type": "code",
   "execution_count": 2,
   "id": "sexual-cradle",
   "metadata": {},
   "outputs": [
    {
     "name": "stdout",
     "output_type": "stream",
     "text": [
      "HTML\n",
      "CSS\n",
      "JavaScript\n",
      "PHP\n",
      "Python\n"
     ]
    }
   ],
   "source": [
    "while skills:\n",
    "     print(*skills,sep=\"\\n\");skills = None"
   ]
  },
  {
   "cell_type": "code",
   "execution_count": 29,
   "id": "confused-format",
   "metadata": {},
   "outputs": [
    {
     "name": "stdout",
     "output_type": "stream",
     "text": [
      "HTML\n",
      "CSS\n",
      "JavaScript\n",
      "PHP\n",
      "Python\n"
     ]
    }
   ],
   "source": [
    " print(*skills,sep=\"\\n\")"
   ]
  },
  {
   "cell_type": "markdown",
   "id": "timely-footwear",
   "metadata": {},
   "source": [
    "## 4"
   ]
  },
  {
   "cell_type": "code",
   "execution_count": null,
   "id": "lined-oregon",
   "metadata": {},
   "outputs": [
    {
     "name": "stdout",
     "output_type": "stream",
     "text": [
      "enter the name: dsgfd\n",
      "Friend dsgfd Added => 1st Letter Become Capital\n"
     ]
    }
   ],
   "source": [
    "# my_list=[]\n",
    "# while True:\n",
    "#      # condition of close\n",
    "#     if len(my_list) ==4:\n",
    "#         break\n",
    "#     # take inputs\n",
    "#     name= input(\"enter the name: \")\n",
    "#     if name.isupper():\n",
    "#         print(\"invalid name\")\n",
    "#     elif name.islower():\n",
    "#         my_list.append(name.title())\n",
    "#         \"Friend osama Added => 1st Letter Become Capital\"\n",
    "#         print(f\"Friend {name} Added => 1st Letter Become Capital\")\n",
    "#     elif name[0].isupper():\n",
    "#         my_list.append(name)\n",
    "#         print(f\"Friend {name} is added\")\n",
    "   "
   ]
  },
  {
   "cell_type": "code",
   "execution_count": 9,
   "id": "attempted-tablet",
   "metadata": {},
   "outputs": [
    {
     "name": "stdout",
     "output_type": "stream",
     "text": [
      "enter the name : Ahmed\n",
      "Friend Ahmed is added\n",
      "names lift in list is 3\n",
      "enter the name : OSAME\n",
      "invalid name\n",
      "enter the name : mohamed\n",
      "Friend Mohamed Added => 1st Letter Become Capital\n",
      "names lift in list is 2 \n",
      "enter the name : Mohamed\n",
      "Friend Mohamed is added\n",
      "names lift in list is 1\n",
      "enter the name : UUDUSFDSF\n",
      "invalid name\n",
      "enter the name : Salah\n",
      "Friend Salah is added\n",
      "names lift in list is 0\n"
     ]
    }
   ],
   "source": [
    "my_lis=[]\n",
    "length_list=4\n",
    "i=0  # number of added\n",
    "while True:\n",
    "    if len(my_lis) == length_list:\n",
    "        break \n",
    "    name= input(\"enter the name : \")\n",
    "    if name.isupper():\n",
    "        print(\"invalid name\")\n",
    "    elif name.islower():\n",
    "        name=name.title()\n",
    "        my_lis.append(name)\n",
    "        i+=1\n",
    "        print(f\"Friend {name} Added => 1st Letter Become Capital\")\n",
    "        print(f\"names lift in list is { length_list-i} \")\n",
    "    elif name[0].isupper():\n",
    "        my_lis.append(name)\n",
    "        i+=1\n",
    "        print(f\"Friend {name} is added\")\n",
    "        print(f\"names lift in list is { length_list-i }\")\n",
    "    "
   ]
  },
  {
   "cell_type": "code",
   "execution_count": 10,
   "id": "federal-valuable",
   "metadata": {},
   "outputs": [
    {
     "data": {
      "text/plain": [
       "['Ahmed', 'Mohamed', 'Mohamed', 'Salah']"
      ]
     },
     "execution_count": 10,
     "metadata": {},
     "output_type": "execute_result"
    }
   ],
   "source": [
    "my_lis "
   ]
  },
  {
   "cell_type": "markdown",
   "id": "north-platform",
   "metadata": {},
   "source": [
    "## 5-"
   ]
  },
  {
   "cell_type": "code",
   "execution_count": 7,
   "id": "bright-entity",
   "metadata": {},
   "outputs": [],
   "source": [
    "my_nums = [15, 81, 5, 17, 20, 21, 13]"
   ]
  },
  {
   "cell_type": "code",
   "execution_count": 4,
   "id": "great-tuning",
   "metadata": {},
   "outputs": [
    {
     "data": {
      "text/plain": [
       "True"
      ]
     },
     "execution_count": 4,
     "metadata": {},
     "output_type": "execute_result"
    }
   ],
   "source": [
    "20 % 5 == 0 "
   ]
  },
  {
   "cell_type": "code",
   "execution_count": 9,
   "id": "creative-insider",
   "metadata": {},
   "outputs": [],
   "source": [
    "new=sorted(my_nums) "
   ]
  },
  {
   "cell_type": "code",
   "execution_count": 11,
   "id": "equivalent-analysis",
   "metadata": {},
   "outputs": [
    {
     "data": {
      "text/plain": [
       "[81, 21, 20, 17, 15, 13, 5]"
      ]
     },
     "execution_count": 11,
     "metadata": {},
     "output_type": "execute_result"
    }
   ],
   "source": [
    "list(reversed(new  ) ) "
   ]
  },
  {
   "cell_type": "code",
   "execution_count": 15,
   "id": "valued-christopher",
   "metadata": {},
   "outputs": [
    {
     "name": "stdout",
     "output_type": "stream",
     "text": [
      " 1 = > 20\n",
      " 2 = > 15\n",
      " 3 = > 5\n"
     ]
    }
   ],
   "source": [
    "index=1\n",
    "for i in reversed(sorted(my_nums)):\n",
    "    if i % 5 ==0 :\n",
    "        print(f\" {index} = > {i}\") \n",
    "        index+=1 "
   ]
  },
  {
   "cell_type": "markdown",
   "id": "entitled-compact",
   "metadata": {},
   "source": [
    "## 6"
   ]
  },
  {
   "cell_type": "code",
   "execution_count": 21,
   "id": "homeless-service",
   "metadata": {},
   "outputs": [
    {
     "name": "stdout",
     "output_type": "stream",
     "text": [
      "01\n",
      "02\n",
      "03\n",
      "04\n",
      "05\n",
      "07\n",
      "09\n",
      "10\n",
      "11\n",
      "13\n",
      "14\n",
      "15\n",
      "16\n",
      "17\n",
      "18\n",
      "19\n",
      "20\n"
     ]
    }
   ],
   "source": [
    "for i in range(1,21):\n",
    "    s =str(i)\n",
    "#     if i not in (6,8,12):\n",
    "    if i !=6 and i!=8 and i!= 12:  \n",
    "        print( s.zfill(2)) "
   ]
  },
  {
   "cell_type": "markdown",
   "id": "hazardous-bench",
   "metadata": {},
   "source": [
    "# 7"
   ]
  },
  {
   "cell_type": "code",
   "execution_count": 27,
   "id": "polar-hypothetical",
   "metadata": {},
   "outputs": [
    {
     "name": "stdout",
     "output_type": "stream",
     "text": [
      "My Rank in Math Is A And This Equal 100 Points\n",
      "My Rank in Science Is A And This Equal 80 Points\n",
      "My Rank in Drawing Is A And This Equal 100 Points\n",
      "My Rank in Sports Is A And This Equal 40 Points\n"
     ]
    }
   ],
   "source": [
    "my_ranks = {\n",
    "  'Math': 'A',\n",
    "  \"Science\": 'B',\n",
    "  'Drawing': 'A',\n",
    "  'Sports': 'C'\n",
    "}\n",
    "grad ={\n",
    "    \"A\":100,\n",
    "    \"B\":80,\n",
    "    \"C\":40\n",
    "}\n",
    "for key,value in my_ranks.items():\n",
    "    print(f\"My Rank in {key} Is A And This Equal {grad[value]} Points\")"
   ]
  },
  {
   "cell_type": "code",
   "execution_count": 25,
   "id": "opposed-selling",
   "metadata": {},
   "outputs": [
    {
     "data": {
      "text/plain": [
       "100"
      ]
     },
     "execution_count": 25,
     "metadata": {},
     "output_type": "execute_result"
    }
   ],
   "source": [
    "grad[\"A\"]"
   ]
  },
  {
   "cell_type": "markdown",
   "id": "approved-powell",
   "metadata": {},
   "source": [
    "## 8"
   ]
  },
  {
   "cell_type": "code",
   "execution_count": 33,
   "id": "arranged-today",
   "metadata": {},
   "outputs": [],
   "source": [
    "students = {\n",
    "  \"Ahmed\": {\n",
    "    \"Math\": \"A\",\n",
    "    \"Science\": \"D\",\n",
    "    \"Draw\": \"B\",\n",
    "    \"Sports\": \"C\",\n",
    "    \"Thinking\": \"A\"\n",
    "  },\n",
    "  \"Sayed\": {\n",
    "    \"Math\": \"B\",\n",
    "    \"Science\": \"B\",\n",
    "    \"Draw\": \"B\",\n",
    "    \"Sports\": \"D\",\n",
    "    \"Thinking\": \"A\"\n",
    "  },\n",
    "  \"Mahmoud\": {\n",
    "    \"Math\": \"D\",\n",
    "    \"Science\": \"A\",\n",
    "    \"Draw\": \"A\",\n",
    "    \"Sports\": \"B\",\n",
    "    \"Thinking\": \"B\"\n",
    "  }\n",
    "}\n",
    "points={\n",
    "    \"A\":100,\n",
    "    \"B\":80,\n",
    "    \"C\":40,\n",
    "    \"D\":20\n",
    "}"
   ]
  },
  {
   "cell_type": "code",
   "execution_count": 37,
   "id": "thermal-florence",
   "metadata": {},
   "outputs": [
    {
     "name": "stdout",
     "output_type": "stream",
     "text": [
      "--------------------------------------------------\n",
      "student : Ahmed\n",
      "--------------------------------------------------\n",
      " Math => 100  points\n",
      " Science => 20  points\n",
      " Draw => 80  points\n",
      " Sports => 40  points\n",
      " Thinking => 100  points\n",
      "total marks are : 340\n",
      "--------------------------------------------------\n",
      "student : Sayed\n",
      "--------------------------------------------------\n",
      " Math => 80  points\n",
      " Science => 80  points\n",
      " Draw => 80  points\n",
      " Sports => 20  points\n",
      " Thinking => 100  points\n",
      "total marks are : 360\n",
      "--------------------------------------------------\n",
      "student : Mahmoud\n",
      "--------------------------------------------------\n",
      " Math => 20  points\n",
      " Science => 100  points\n",
      " Draw => 100  points\n",
      " Sports => 80  points\n",
      " Thinking => 80  points\n",
      "total marks are : 380\n"
     ]
    }
   ],
   "source": [
    "for name ,subjects in students.items():\n",
    "    print(\"-\"*50)\n",
    "    print(f\"student : {name}\")\n",
    "    print(\"-\"*50)\n",
    "    total=0\n",
    "    for subject , grade in subjects.items():\n",
    "        print(f\" {subject} => {points[grade]}  points\") \n",
    "        total += points[grade]\n",
    "    print(f\"total marks are : {total}\")"
   ]
  },
  {
   "cell_type": "code",
   "execution_count": 31,
   "id": "burning-shadow",
   "metadata": {},
   "outputs": [
    {
     "data": {
      "text/plain": [
       "'------------------------------'"
      ]
     },
     "execution_count": 31,
     "metadata": {},
     "output_type": "execute_result"
    }
   ],
   "source": [
    "\"-\"*30 "
   ]
  },
  {
   "cell_type": "code",
   "execution_count": null,
   "id": "radio-disabled",
   "metadata": {},
   "outputs": [],
   "source": []
  }
 ],
 "metadata": {
  "kernelspec": {
   "display_name": "Python 3",
   "language": "python",
   "name": "python3"
  },
  "language_info": {
   "codemirror_mode": {
    "name": "ipython",
    "version": 3
   },
   "file_extension": ".py",
   "mimetype": "text/x-python",
   "name": "python",
   "nbconvert_exporter": "python",
   "pygments_lexer": "ipython3",
   "version": "3.8.2"
  }
 },
 "nbformat": 4,
 "nbformat_minor": 5
}
